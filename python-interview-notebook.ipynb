{
 "cells": [
  {
   "cell_type": "markdown",
   "metadata": {},
   "source": [
    "### 1.1\n",
    "What is the value of $\\sqrt{2}^{\\sqrt{2}^{{\\sqrt{2}^{...}}}}$?"
   ]
  },
  {
   "cell_type": "code",
   "execution_count": 4,
   "metadata": {
    "collapsed": false
   },
   "outputs": [
    {
     "name": "stdout",
     "output_type": "stream",
     "text": [
      "1.41421356237\n",
      "1.63252691944\n",
      "1.76083955588\n",
      "1.84091086929\n",
      "1.89271269683\n",
      "1.92699970185\n",
      "1.95003477381\n",
      "1.96566488652\n",
      "1.97634175441\n",
      "1.9836683993\n",
      "1.98871177341\n",
      "1.99219088295\n",
      "1.99459445071\n",
      "1.99625666627\n",
      "1.99740700114\n",
      "1.99820347751\n",
      "1.99875513308\n",
      "1.99913731012\n",
      "1.99940211832\n",
      "1.99958562294\n",
      "1.99971279633\n",
      "1.99980093549\n",
      "1.99986202376\n",
      "1.99990436444\n",
      "1.99993371158\n",
      "1.9999540529\n",
      "1.99996815215\n",
      "1.99997792487\n",
      "1.99998469875\n",
      "1.99998939401\n",
      "1.9999926485\n",
      "1.99999490433\n",
      "1.99999646796\n",
      "1.99999755178\n",
      "1.99999830302\n",
      "1.99999882374\n",
      "1.99999918468\n",
      "1.99999943486\n",
      "1.99999960828\n",
      "1.99999972848\n",
      "1.9999998118\n",
      "1.99999986955\n",
      "1.99999990958\n",
      "1.99999993732\n",
      "1.99999995656\n",
      "1.99999996989\n",
      "1.99999997913\n",
      "1.99999998553\n",
      "1.99999998997\n",
      "1.99999999305\n"
     ]
    }
   ],
   "source": [
    "import math\n",
    "exponent = 1\n",
    "for n in range(0, 50):\n",
    "    exponent = math.sqrt(2)**exponent\n",
    "    print exponent"
   ]
  },
  {
   "cell_type": "markdown",
   "metadata": {},
   "source": [
    "### 3.1\n",
    "You have a bag with two coins. One will come up heads 40% of the time, and the other will come up heads 60%. You pick a coin randomly, flip it and get a head. What is the probability it will be heads on the next flip?"
   ]
  },
  {
   "cell_type": "code",
   "execution_count": 34,
   "metadata": {
    "collapsed": false
   },
   "outputs": [
    {
     "name": "stdout",
     "output_type": "stream",
     "text": [
      "0.519146740685\n"
     ]
    }
   ],
   "source": [
    "import random as rnd\n",
    "firstflip = 0\n",
    "secondflip = 0\n",
    "def headortail(n):\n",
    "    if rnd.random() < n:\n",
    "        return 0\n",
    "    else:\n",
    "        return 1\n",
    "for n in range(0, 1000000):\n",
    "    if rnd.random() < 0.5:\n",
    "        probTail = 0.6\n",
    "    else:\n",
    "        probTail = 0.4\n",
    "    coin = headortail(probTail)\n",
    "    if coin == 1: #it's a head, because it must be 1,not 0.\n",
    "        firstflip += 1.0\n",
    "        secondflip += headortail(probTail)\n",
    "print secondflip/firstflip"
   ]
  },
  {
   "cell_type": "markdown",
   "metadata": {},
   "source": [
    "### 3.1\n",
    "In front of you is a jar of 1000 coins. One of the coins has two heads, and the rest are fair coins. You choose a coin at random, and flip it ten times, getting all heads. What is the probability it is one of the fair coins?"
   ]
  },
  {
   "cell_type": "code",
   "execution_count": null,
   "metadata": {
    "collapsed": false
   },
   "outputs": [],
   "source": []
  },
  {
   "cell_type": "markdown",
   "metadata": {},
   "source": [
    "### 3.5\n",
    "Starting at one vertex of a cube, and moving randomly from vertex to adjacent vertices, what is the expected number of moves until you reach the  vertex opposite from your starting point?"
   ]
  },
  {
   "cell_type": "code",
   "execution_count": null,
   "metadata": {
    "collapsed": false
   },
   "outputs": [],
   "source": [
    "# E = 2/9*3 + 7/9*(E+2)\n",
    "# E = 10"
   ]
  },
  {
   "cell_type": "markdown",
   "metadata": {},
   "source": [
    "### 3.8\n",
    "You have a spinner that generates random numbers that are uniform between 0 and 1. You sum the spins until the sum is greater than one. What is the expected number of spins?"
   ]
  },
  {
   "cell_type": "code",
   "execution_count": null,
   "metadata": {
    "collapsed": false
   },
   "outputs": [],
   "source": []
  },
  {
   "cell_type": "markdown",
   "metadata": {},
   "source": [
    "### 4.4\n",
    "You have a basket of $n$ assets. The asset returns are multivariate normal with zero mean. Correlation between any pair of assets is 1/2. What is the probability that $k$ of the assets will have positive return?"
   ]
  },
  {
   "cell_type": "code",
   "execution_count": null,
   "metadata": {
    "collapsed": false
   },
   "outputs": [],
   "source": []
  },
  {
   "cell_type": "markdown",
   "metadata": {},
   "source": [
    "### 3.10\n",
    "A stick is broken randomly into 3 pieces. What is the probability of the pieces being able to form a triangle?"
   ]
  },
  {
   "cell_type": "code",
   "execution_count": null,
   "metadata": {
    "collapsed": false
   },
   "outputs": [],
   "source": []
  },
  {
   "cell_type": "markdown",
   "metadata": {},
   "source": [
    "### 3.11\n",
    "A stick is broken randomly into two pieces. The larger piece is then broken randomly into two pieces. What is the probability of the pieces being able to form a triangle?"
   ]
  },
  {
   "cell_type": "code",
   "execution_count": null,
   "metadata": {
    "collapsed": false
   },
   "outputs": [],
   "source": []
  },
  {
   "cell_type": "markdown",
   "metadata": {},
   "source": [
    "### 5.10\n",
    "Suppose there are 36 students in the QFRM program, each assigned a unique integer from 1 to 36. Thirty-six quarters are laid out on a table in a row, heads up. Each student goes to the table, and if they are assigned the number $n$, they turn over the $n$th coin, the $2n$th coin, and so on. So, for example, the student who is assigned 15 will turn over the 15th and 30th coins. When everyone is done, how many tails are showing?"
   ]
  },
  {
   "cell_type": "code",
   "execution_count": null,
   "metadata": {
    "collapsed": false
   },
   "outputs": [],
   "source": []
  }
 ],
 "metadata": {
  "kernelspec": {
   "display_name": "Python [Root]",
   "language": "python",
   "name": "Python [Root]"
  },
  "language_info": {
   "codemirror_mode": {
    "name": "ipython",
    "version": 2
   },
   "file_extension": ".py",
   "mimetype": "text/x-python",
   "name": "python",
   "nbconvert_exporter": "python",
   "pygments_lexer": "ipython2",
   "version": "2.7.12"
  }
 },
 "nbformat": 4,
 "nbformat_minor": 0
}
